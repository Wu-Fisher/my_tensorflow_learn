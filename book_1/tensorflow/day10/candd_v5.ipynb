{
 "cells": [
  {
   "cell_type": "markdown",
   "metadata": {},
   "source": [
    "## 1.可视化卷积神经网络的中间输出（中间激活）："
   ]
  },
  {
   "cell_type": "markdown",
   "metadata": {},
   "source": [
    "载入模型信息"
   ]
  },
  {
   "cell_type": "code",
   "execution_count": null,
   "metadata": {},
   "outputs": [],
   "source": [
    "\n",
    "from keras.models import load_model\n",
    "# import tensorflow as tf\n",
    "# 注意这个地址\n",
    "model = load_model(\"/home/wufisher/my_tensorflow_learn/python/tensorflow/day10/candd_v2.h5\")\n",
    "print(model.summary())"
   ]
  },
  {
   "cell_type": "markdown",
   "metadata": {},
   "source": [
    "输入一张😺的测试图像"
   ]
  },
  {
   "cell_type": "code",
   "execution_count": null,
   "metadata": {},
   "outputs": [],
   "source": [
    "img_path = '/home/wufisher/dataset_m/mm_and_dd/cats_and_dogs_small/test/cats/1700.jpg'\n",
    "from keras.preprocessing import image\n",
    "import numpy as np\n",
    "img = image.load_img(img_path,target_size=(150,150))\n",
    "img_tensor = image.img_to_array(img)\n",
    "img_tensor = np.expand_dims(img_tensor,axis=0)\n",
    "img_tensor/=255.\n",
    "print(img_tensor.shape)"
   ]
  },
  {
   "cell_type": "code",
   "execution_count": null,
   "metadata": {},
   "outputs": [],
   "source": [
    "import matplotlib.pyplot as plt\n",
    "plt.imshow(img_tensor[0])\n",
    "plt.show()"
   ]
  },
  {
   "cell_type": "markdown",
   "metadata": {},
   "source": [
    "为了提取想要查看的特征图，我们需要创建一个Keras模型，以图像批量作为输入，输出所有卷积层和池化层的激活\n",
    "model类允许多个输出，与Sequential模型不大一样"
   ]
  },
  {
   "cell_type": "code",
   "execution_count": null,
   "metadata": {},
   "outputs": [],
   "source": [
    "from keras import models\n",
    "\n",
    "layer_outputs = [layer.output for layer in model.layers[:8]]\n",
    "activation_model=models.Model(inputs=model.input,outputs=layer_outputs)\n",
    "activations= activation_model.predict(img_tensor)\n",
    "first_layer_activation = activations[0]\n",
    "print(first_layer_activation.shape)"
   ]
  },
  {
   "cell_type": "markdown",
   "metadata": {},
   "source": [
    "将第4个通道可视化(第一层激活的四个通道)"
   ]
  },
  {
   "cell_type": "code",
   "execution_count": null,
   "metadata": {},
   "outputs": [],
   "source": [
    "import matplotlib.pyplot as plt\n",
    "\n",
    "plt.matshow(first_layer_activation[0,:,:,4],cmap='viridis')"
   ]
  },
  {
   "cell_type": "markdown",
   "metadata": {},
   "source": [
    "在看一下第七个，这个是不确定的因为每一个层学到的过滤器不一样"
   ]
  },
  {
   "cell_type": "code",
   "execution_count": null,
   "metadata": {},
   "outputs": [],
   "source": [
    "plt.matshow(first_layer_activation[0,:,:,7],cmap='viridis')"
   ]
  },
  {
   "cell_type": "markdown",
   "metadata": {},
   "source": [
    "将每个通道都可视化"
   ]
  },
  {
   "cell_type": "code",
   "execution_count": null,
   "metadata": {},
   "outputs": [],
   "source": [
    "layer_names=[]\n",
    "for layer in model.layers[:8]:\n",
    "    layer_names.append(layer.name)\n",
    "images_per_row=16\n",
    "\n",
    "for layer_name, layer_activation in zip(layer_names,activations):\n",
    "    n_features = layer_activation.shape[-1]\n",
    "\n",
    "    size= layer_activation.shape[1]\n",
    "\n",
    "    n_cols= n_features//images_per_row\n",
    "    display_grid = np.zeros((n_cols*size,images_per_row*size))\n",
    "    for col in range(n_cols):\n",
    "        for row in range(images_per_row):\n",
    "            channel_image= layer_activation[0,:,:,col*images_per_row+row]\n",
    "\n",
    "            channel_image-=channel_image.mean()\n",
    "            channel_image/=channel_image.std()\n",
    "            channel_image*=64\n",
    "            channel_image+=128\n",
    "            channel_image=np.clip(channel_image,0,255).astype('uint8')\n",
    "            display_grid[col*size:(col+1)*size,row*size:(row+1)*size]=channel_image\n",
    "\n",
    "        scale=1./size\n",
    "        plt.figure(figsize=(scale*display_grid.shape[1],scale*display_grid.shape[0]))\n",
    "        plt.title(layer_name)\n",
    "        plt.grid(False)\n",
    "        plt.imshow(display_grid,aspect='auto',cmap='viridis')\n",
    "\n"
   ]
  },
  {
   "cell_type": "markdown",
   "metadata": {},
   "source": [
    "在前面几层，激活几乎保存了所有的信息\n",
    "随着层数加深，激活越来越抽象，视觉内容越来越少，类别信息越来越多\n",
    "激活的稀疏度随着层数加深而增大，越来越多过滤器是空白的，输入图像中找不到这些过滤器的编码格式"
   ]
  }
 ],
 "metadata": {
  "interpreter": {
   "hash": "1da7e72ad87f70fcd0b6030ed64dbaf661c0a0480be1284c3d24ab4850818859"
  },
  "kernelspec": {
   "display_name": "Python 3.9.7 64-bit ('tensorflow': conda)",
   "language": "python",
   "name": "python3"
  },
  "language_info": {
   "codemirror_mode": {
    "name": "ipython",
    "version": 3
   },
   "file_extension": ".py",
   "mimetype": "text/x-python",
   "name": "python",
   "nbconvert_exporter": "python",
   "pygments_lexer": "ipython3",
   "version": "3.9.7"
  },
  "orig_nbformat": 4
 },
 "nbformat": 4,
 "nbformat_minor": 2
}
