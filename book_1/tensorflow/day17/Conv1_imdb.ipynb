{
 "cells": [
  {
   "cell_type": "markdown",
   "metadata": {},
   "source": [
    "# 卷积神经网络处理序列"
   ]
  },
  {
   "cell_type": "markdown",
   "metadata": {},
   "source": [
    "小型的一维卷积神经网络可以媲美RNN，并且有较小的运算量"
   ]
  },
  {
   "cell_type": "code",
   "execution_count": 1,
   "metadata": {},
   "outputs": [
    {
     "name": "stdout",
     "output_type": "stream",
     "text": [
      "Loading data...\n",
      "25000\n",
      "25000\n",
      "Pad sequences\n"
     ]
    }
   ],
   "source": [
    "from keras.datasets import imdb\n",
    "from keras.preprocessing import sequence\n",
    "\n",
    "max_features= 10000\n",
    "max_len = 500\n",
    "\n",
    "print('Loading data...')\n",
    "(x_train,y_train),(x_test,y_test)= imdb.load_data(num_words=max_features)\n",
    "\n",
    "print(len(x_train))\n",
    "print(len(x_test))\n",
    "\n",
    "print('Pad sequences')\n",
    "\n",
    "x_train = sequence.pad_sequences(x_train,maxlen=max_len)\n",
    "x_test = sequence.pad_sequences(x_test,maxlen=max_len)\n"
   ]
  },
  {
   "cell_type": "code",
   "execution_count": 5,
   "metadata": {},
   "outputs": [
    {
     "name": "stdout",
     "output_type": "stream",
     "text": [
      "Model: \"sequential_1\"\n",
      "_________________________________________________________________\n",
      " Layer (type)                Output Shape              Param #   \n",
      "=================================================================\n",
      " embedding_1 (Embedding)     (None, 500, 128)          1280000   \n",
      "                                                                 \n",
      " conv1d_2 (Conv1D)           (None, 494, 32)           28704     \n",
      "                                                                 \n",
      " max_pooling1d_1 (MaxPooling  (None, 98, 32)           0         \n",
      " 1D)                                                             \n",
      "                                                                 \n",
      " conv1d_3 (Conv1D)           (None, 92, 32)            7200      \n",
      "                                                                 \n",
      " global_max_pooling1d_1 (Glo  (None, 32)               0         \n",
      " balMaxPooling1D)                                                \n",
      "                                                                 \n",
      " dense_1 (Dense)             (None, 1)                 33        \n",
      "                                                                 \n",
      "=================================================================\n",
      "Total params: 1,315,937\n",
      "Trainable params: 1,315,937\n",
      "Non-trainable params: 0\n",
      "_________________________________________________________________\n",
      "Epoch 1/10\n"
     ]
    },
    {
     "name": "stderr",
     "output_type": "stream",
     "text": [
      "/home/wufisher/anaconda3/envs/tensorflow/lib/python3.9/site-packages/keras/optimizer_v2/rmsprop.py:130: UserWarning: The `lr` argument is deprecated, use `learning_rate` instead.\n",
      "  super(RMSprop, self).__init__(name, **kwargs)\n",
      "2021-12-22 20:00:47.422236: W tensorflow/core/framework/cpu_allocator_impl.cc:82] Allocation of 40000000 exceeds 10% of free system memory.\n"
     ]
    },
    {
     "name": "stdout",
     "output_type": "stream",
     "text": [
      "157/157 [==============================] - 2s 11ms/step - loss: 1.1771 - acc: 0.4992 - val_loss: 0.6924 - val_acc: 0.5186\n",
      "Epoch 2/10\n",
      "157/157 [==============================] - 2s 11ms/step - loss: 0.6782 - acc: 0.6242 - val_loss: 0.6758 - val_acc: 0.6064\n",
      "Epoch 3/10\n",
      "157/157 [==============================] - 2s 10ms/step - loss: 0.6440 - acc: 0.7478 - val_loss: 0.6428 - val_acc: 0.7234\n",
      "Epoch 4/10\n",
      "157/157 [==============================] - 2s 10ms/step - loss: 0.5821 - acc: 0.8080 - val_loss: 0.5585 - val_acc: 0.7486\n",
      "Epoch 5/10\n",
      "157/157 [==============================] - 2s 10ms/step - loss: 0.4595 - acc: 0.8348 - val_loss: 0.4382 - val_acc: 0.8290\n",
      "Epoch 6/10\n",
      "157/157 [==============================] - 2s 11ms/step - loss: 0.3647 - acc: 0.8652 - val_loss: 0.4017 - val_acc: 0.8420\n",
      "Epoch 7/10\n",
      "157/157 [==============================] - 2s 10ms/step - loss: 0.3158 - acc: 0.8874 - val_loss: 0.3923 - val_acc: 0.8582\n",
      "Epoch 8/10\n",
      "157/157 [==============================] - 2s 10ms/step - loss: 0.2811 - acc: 0.9021 - val_loss: 0.4120 - val_acc: 0.8594\n",
      "Epoch 9/10\n",
      "157/157 [==============================] - 2s 10ms/step - loss: 0.2559 - acc: 0.9121 - val_loss: 0.4262 - val_acc: 0.8672\n",
      "Epoch 10/10\n",
      "157/157 [==============================] - 2s 10ms/step - loss: 0.2332 - acc: 0.9208 - val_loss: 0.4751 - val_acc: 0.8688\n"
     ]
    }
   ],
   "source": [
    "from keras.models import Sequential\n",
    "from keras import layers\n",
    "from keras.optimizers import rmsprop_v2\n",
    "\n",
    "model = Sequential()\n",
    "model.add(layers.Embedding(max_features,128,input_length=max_len))\n",
    "model.add(layers.Conv1D(32,7,activation='relu'))\n",
    "model.add(layers.MaxPooling1D(5))\n",
    "model.add(layers.Conv1D(32,7,activation='relu'))\n",
    "model.add(layers.GlobalMaxPooling1D())\n",
    "model.add(layers.Dense(1))\n",
    "\n",
    "model.summary()\n",
    "\n",
    "model.compile(\n",
    "        ## 调用RMSprop（）的时候别忘了加参数\n",
    "        optimizer=rmsprop_v2.RMSprop(lr=1e-4),\n",
    "        loss='binary_crossentropy',\n",
    "        metrics=['acc']\n",
    ")\n",
    "history= model.fit(x_train,y_train,\n",
    "epochs=10,batch_size=128,validation_split=0.2)\n",
    "\n",
    "\n"
   ]
  },
  {
   "cell_type": "code",
   "execution_count": 6,
   "metadata": {},
   "outputs": [
    {
     "data": {
      "image/png": "[encoded data removed]",
      "text/plain": [
       "<Figure size 432x288 with 1 Axes>"
      ]
     },
     "metadata": {
      "needs_background": "light"
     },
     "output_type": "display_data"
    },
    {
     "data": {
      "image/png": "[encoded data removed]",
      "text/plain": [
       "<Figure size 432x288 with 1 Axes>"
      ]
     },
     "metadata": {
      "needs_background": "light"
     },
     "output_type": "display_data"
    }
   ],
   "source": [
    "from matplotlib import pyplot as plt\n",
    "acc= history.history['acc']\n",
    "val_acc = history.history['val_acc']\n",
    "loss=history.history['loss']\n",
    "val_loss=history.history['val_loss']\n",
    "\n",
    "epochs = range(1,len(loss)+1)\n",
    "\n",
    "plt.plot(epochs,acc,'bo',label='TRA acc')\n",
    "plt.plot(epochs,val_acc,'b',label='va acc')\n",
    "plt.title('Train and validation acc')\n",
    "plt.legend()\n",
    "plt.savefig('IMDB_Conv1_v1_acc.png')\n",
    "plt.show()\n",
    "plt.figure()\n",
    "plt.plot(epochs,loss,'bo',label='TRA loss')\n",
    "plt.plot(epochs,val_loss,'b',label='va loss')\n",
    "plt.title('Train and validation loss')\n",
    "plt.legend()\n",
    "\n",
    "plt.savefig('IMDB_Conv1_v1_loss.png')\n",
    "plt.show()"
   ]
  },
  {
   "cell_type": "code",
   "execution_count": null,
   "metadata": {},
   "outputs": [],
   "source": []
  }
 ],
 "metadata": {
  "interpreter": {
   "hash": "1da7e72ad87f70fcd0b6030ed64dbaf661c0a0480be1284c3d24ab4850818859"
  },
  "kernelspec": {
   "display_name": "Python 3.9.7 64-bit ('tensorflow': conda)",
   "language": "python",
   "name": "python3"
  },
  "language_info": {
   "codemirror_mode": {
    "name": "ipython",
    "version": 3
   },
   "file_extension": ".py",
   "mimetype": "text/x-python",
   "name": "python",
   "nbconvert_exporter": "python",
   "pygments_lexer": "ipython3",
   "version": "3.9.7"
  },
  "orig_nbformat": 4
 },
 "nbformat": 4,
 "nbformat_minor": 2
}
