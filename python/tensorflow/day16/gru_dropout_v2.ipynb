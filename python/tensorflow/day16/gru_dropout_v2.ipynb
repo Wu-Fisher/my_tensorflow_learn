{
 "cells": [
  {
   "cell_type": "markdown",
   "metadata": {},
   "source": [
    "## data pre from day15"
   ]
  },
  {
   "cell_type": "code",
   "execution_count": null,
   "metadata": {},
   "outputs": [],
   "source": [
    "import os\n",
    "\n",
    "data_dir ='/home/wufisher/dataset_m/jena_climate'\n",
    "fname= os.path.join(data_dir,'jena_climate_2009_2016.csv')\n",
    "\n",
    "f = open(fname)\n",
    "data = f.read()\n",
    "f.close()\n",
    "\n",
    "lines = data.split('\\n')\n",
    "header = lines[0].split(',')\n",
    "lines = lines[1:]\n",
    "\n",
    "print(header)\n",
    "print(len(lines))\n",
    "import numpy as np\n",
    "\n",
    "\n",
    "float_data = np.zeros((len(lines),len(header)-1))\n",
    "for i,line in enumerate(lines):\n",
    "    values = [float(x) for x in line.split(',')[1:]]\n",
    "    float_data[i,:]=values\n",
    "\n",
    "mean= float_data[:200000].mean(axis=0)\n",
    "float_data-=mean\n",
    "std =  float_data[:200000].std(axis=0)\n",
    "float_data/=std\n",
    "\n",
    "def generator(data,lookback,delay,min_index,max_index,shuffle=False,batch_sice=128,step=6):\n",
    "    if max_index is None:\n",
    "        max_index = len(data)-delay-1\n",
    "    i = min_index+lookback\n",
    "    while 1 :\n",
    "        if shuffle:\n",
    "            rows = np.random.randint(\n",
    "                min_index+lookback,max_index,size=batch_sice\n",
    "            )\n",
    "        else :\n",
    "            if i+batch_sice>=max_index:\n",
    "                i=min_index+lookback\n",
    "            rows=np.arange(i,min(i+batch_sice,max_index))\n",
    "            i+=len(rows)\n",
    "\n",
    "        samples = np.zeros((len(rows),lookback//step,data.shape[-1]))\n",
    "        targets = np.zeros((len(rows),))\n",
    "\n",
    "        for j , row in enumerate(rows):\n",
    "            indices = range(rows[j]-lookback,rows[j],step)\n",
    "            samples[j]=data[indices]\n",
    "            targets[j]=data[rows[j]+delay][1]\n",
    "        yield samples , targets\n",
    "\n",
    "lookback  = 1440\n",
    "step = 6\n",
    "delay = 144\n",
    "batch_size = 128\n",
    "\n",
    "train_gen = generator(float_data,\n",
    "lookback=lookback,\n",
    "delay=delay,\n",
    "min_index=0,\n",
    "max_index=200000,\n",
    "shuffle=True,\n",
    "step=step,\n",
    "batch_sice=batch_size)\n",
    "\n",
    "val_gen = generator(float_data,\n",
    "lookback=lookback,\n",
    "delay=delay,\n",
    "min_index=200001,\n",
    "max_index=300000,\n",
    "step=step,\n",
    "batch_sice=batch_size)\n",
    "\n",
    "test_gen = generator(float_data,\n",
    "lookback=lookback,\n",
    "delay=delay,\n",
    "min_index=300001,\n",
    "max_index=None,\n",
    "step=step,\n",
    "batch_sice=batch_size)\n",
    "\n",
    "# 得到验证和测试需要抽取多少次\n",
    "\n",
    "val_steps = (300000-200001-lookback)//batch_size\n",
    "test_steps = (len(float_data)-300001-lookback)//batch_size"
   ]
  },
  {
   "cell_type": "markdown",
   "metadata": {},
   "source": [
    "## 使用dropout层来降低过拟合"
   ]
  },
  {
   "cell_type": "markdown",
   "metadata": {},
   "source": [
    "    一般来说循环层面前，使用dropout会阻碍学习过程\n",
    "    但是这里我们对与每一个时间步采用相同的dropout掩码，能够正确的传播其学习误差，如果dorpout码随时间变化，则会破坏这个误差信号\n",
    "    这里我们采用参数内置 \n",
    "                    dropout：指定输入单元层dropout层比率\n",
    "                    recurrent_dropout循环单元层的比率\n",
    "                    !!!更新之后，别用recurrent_dropout参数，会训练的非常垃圾\n",
    "    值得注意的是需要花费更多的时间，所以这里我们的训练轮次增加为原来的两倍"
   ]
  },
  {
   "cell_type": "code",
   "execution_count": 8,
   "metadata": {},
   "outputs": [
    {
     "name": "stdout",
     "output_type": "stream",
     "text": [
      "Epoch 1/40\n",
      "500/500 [==============================] - 16s 30ms/step - loss: 0.3233 - val_loss: 0.2823\n",
      "Epoch 2/40\n",
      "500/500 [==============================] - 14s 29ms/step - loss: 0.3040 - val_loss: 0.2746\n",
      "Epoch 3/40\n",
      "500/500 [==============================] - 15s 29ms/step - loss: 0.2968 - val_loss: 0.2717\n",
      "Epoch 4/40\n",
      "500/500 [==============================] - 15s 31ms/step - loss: 0.2912 - val_loss: 0.2746\n",
      "Epoch 5/40\n",
      "500/500 [==============================] - 16s 32ms/step - loss: 0.2862 - val_loss: 0.2774\n",
      "Epoch 6/40\n",
      "500/500 [==============================] - 16s 32ms/step - loss: 0.2820 - val_loss: 0.2770\n",
      "Epoch 7/40\n",
      "500/500 [==============================] - 16s 31ms/step - loss: 0.2772 - val_loss: 0.2792\n",
      "Epoch 8/40\n",
      "500/500 [==============================] - 16s 31ms/step - loss: 0.2732 - val_loss: 0.2778\n",
      "Epoch 9/40\n",
      "500/500 [==============================] - 16s 31ms/step - loss: 0.2701 - val_loss: 0.2753\n",
      "Epoch 10/40\n",
      "500/500 [==============================] - 16s 31ms/step - loss: 0.2663 - val_loss: 0.2805\n",
      "Epoch 11/40\n",
      "500/500 [==============================] - 15s 31ms/step - loss: 0.2634 - val_loss: 0.2776\n",
      "Epoch 12/40\n",
      "500/500 [==============================] - 15s 31ms/step - loss: 0.2595 - val_loss: 0.2841\n",
      "Epoch 13/40\n",
      "500/500 [==============================] - 15s 31ms/step - loss: 0.2572 - val_loss: 0.2873\n",
      "Epoch 14/40\n",
      "500/500 [==============================] - 15s 30ms/step - loss: 0.2517 - val_loss: 0.2931\n",
      "Epoch 15/40\n",
      "500/500 [==============================] - 15s 30ms/step - loss: 0.2497 - val_loss: 0.2897\n",
      "Epoch 16/40\n",
      "500/500 [==============================] - 15s 30ms/step - loss: 0.2450 - val_loss: 0.2944\n",
      "Epoch 17/40\n",
      "500/500 [==============================] - 15s 29ms/step - loss: 0.2420 - val_loss: 0.3007\n",
      "Epoch 18/40\n",
      "500/500 [==============================] - 15s 30ms/step - loss: 0.2402 - val_loss: 0.2956\n",
      "Epoch 19/40\n",
      "500/500 [==============================] - 15s 29ms/step - loss: 0.2356 - val_loss: 0.3035\n",
      "Epoch 20/40\n",
      "500/500 [==============================] - 15s 30ms/step - loss: 0.2332 - val_loss: 0.3000\n",
      "Epoch 21/40\n",
      "500/500 [==============================] - 15s 30ms/step - loss: 0.2307 - val_loss: 0.3072\n",
      "Epoch 22/40\n",
      "500/500 [==============================] - 15s 30ms/step - loss: 0.2291 - val_loss: 0.3139\n",
      "Epoch 23/40\n",
      "500/500 [==============================] - 15s 30ms/step - loss: 0.2251 - val_loss: 0.3095\n",
      "Epoch 24/40\n",
      "500/500 [==============================] - 15s 30ms/step - loss: 0.2250 - val_loss: 0.3141\n",
      "Epoch 25/40\n",
      "500/500 [==============================] - 15s 30ms/step - loss: 0.2214 - val_loss: 0.3133\n",
      "Epoch 26/40\n",
      "500/500 [==============================] - 15s 29ms/step - loss: 0.2187 - val_loss: 0.3160\n",
      "Epoch 27/40\n",
      "500/500 [==============================] - 14s 29ms/step - loss: 0.2158 - val_loss: 0.3152\n",
      "Epoch 28/40\n",
      "500/500 [==============================] - 15s 29ms/step - loss: 0.2149 - val_loss: 0.3206\n",
      "Epoch 29/40\n",
      "500/500 [==============================] - 14s 29ms/step - loss: 0.2124 - val_loss: 0.3169\n",
      "Epoch 30/40\n",
      "500/500 [==============================] - 17s 33ms/step - loss: 0.2095 - val_loss: 0.3238\n",
      "Epoch 31/40\n",
      "500/500 [==============================] - 14s 29ms/step - loss: 0.2084 - val_loss: 0.3218\n",
      "Epoch 32/40\n",
      "500/500 [==============================] - 15s 29ms/step - loss: 0.2073 - val_loss: 0.3236\n",
      "Epoch 33/40\n",
      "500/500 [==============================] - 15s 30ms/step - loss: 0.2060 - val_loss: 0.3303\n",
      "Epoch 34/40\n",
      "500/500 [==============================] - 15s 30ms/step - loss: 0.2045 - val_loss: 0.3224\n",
      "Epoch 35/40\n",
      "500/500 [==============================] - 15s 30ms/step - loss: 0.2032 - val_loss: 0.3280\n",
      "Epoch 36/40\n",
      "500/500 [==============================] - 15s 30ms/step - loss: 0.2005 - val_loss: 0.3267\n",
      "Epoch 37/40\n",
      "500/500 [==============================] - 14s 29ms/step - loss: 0.1986 - val_loss: 0.3359\n",
      "Epoch 38/40\n",
      "500/500 [==============================] - 15s 31ms/step - loss: 0.1979 - val_loss: 0.3370\n",
      "Epoch 39/40\n",
      "500/500 [==============================] - 15s 30ms/step - loss: 0.1972 - val_loss: 0.3337\n",
      "Epoch 40/40\n",
      "500/500 [==============================] - 15s 30ms/step - loss: 0.1957 - val_loss: 0.3378\n"
     ]
    }
   ],
   "source": [
    "from keras.models import Sequential\n",
    "from keras import layers\n",
    "from keras.optimizers import rmsprop_v2\n",
    "model = Sequential()\n",
    "model.add(layers.GRU(32,dropout=0.2,input_shape=(None,float_data.shape[-1])))\n",
    "#最后一层使用线性激活函数\n",
    "model.add(layers.Dense(1))\n",
    "model.compile(optimizer='rmsprop',loss='mae')\n",
    "history = model.fit(\n",
    "    train_gen,steps_per_epoch=500,epochs=40,validation_data=val_gen,validation_steps=val_steps\n",
    ")"
   ]
  },
  {
   "cell_type": "code",
   "execution_count": 9,
   "metadata": {},
   "outputs": [
    {
     "data": {
      "image/png": "[encoded data removed]",
      "text/plain": [
       "<Figure size 432x288 with 1 Axes>"
      ]
     },
     "metadata": {
      "needs_background": "light"
     },
     "output_type": "display_data"
    }
   ],
   "source": [
    "from matplotlib import pyplot as plt\n",
    "loss=history.history['loss']\n",
    "val_loss=history.history['val_loss']\n",
    "\n",
    "epochs = range(1,len(loss)+1)\n",
    "plt.plot(epochs,loss,'bo',label='TRA loss')\n",
    "plt.plot(epochs,val_loss,'b',label='va loss')\n",
    "plt.title('Train and validation loss')\n",
    "plt.legend()\n",
    "\n",
    "plt.savefig('GRU_drop_v2_loss.png')\n",
    "plt.show()"
   ]
  },
  {
   "cell_type": "markdown",
   "metadata": {},
   "source": [
    "测试以下时间，感觉dropout层花费时间好久"
   ]
  },
  {
   "cell_type": "code",
   "execution_count": null,
   "metadata": {},
   "outputs": [],
   "source": [
    "from keras.models import Sequential\n",
    "from keras import layers\n",
    "from keras.optimizers import rmsprop_v2\n",
    "model = Sequential()\n",
    "model.add(layers.GRU(32,input_shape=(None,float_data.shape[-1])))\n",
    "#最后一层使用线性激活函数\n",
    "model.add(layers.Dense(1))\n",
    "model.compile(optimizer='rmsprop',loss='mae')\n",
    "history = model.fit(\n",
    "    train_gen,steps_per_epoch=500,epochs=40,validation_data=val_gen,validation_steps=val_steps\n",
    ")"
   ]
  },
  {
   "cell_type": "code",
   "execution_count": null,
   "metadata": {},
   "outputs": [],
   "source": [
    "from keras.models import Sequential\n",
    "from keras import layers\n",
    "from keras.optimizers import rmsprop_v2\n",
    "model = Sequential()\n",
    "model.add(layers.GRU(32,dropout=0.1,return_sequences=True,input_shape=(None,float_data.shape[-1])))\n",
    "\n",
    "model.add(layers.GRU(64,dropout=0.1,activation='relu'))\n",
    "# 最后一层使用线性激活函数\n",
    "model.add(layers.Dense(1))\n",
    "\n",
    "model.compile(optimizer=rmsprop_v2.RMSProp(),loss='mae')\n",
    "history = model.fit(\n",
    "    train_gen,steps_per_epoch=500,epochs=40,validation_data=val_gen,validation_steps=val_steps\n",
    ")"
   ]
  },
  {
   "cell_type": "markdown",
   "metadata": {},
   "source": [
    "加了一层之后其实效果并没有好多少，可以看出循环网络层的效果是在减弱的"
   ]
  },
  {
   "cell_type": "markdown",
   "metadata": {},
   "source": [
    "## 双向序列处理\n",
    "    通过bidirectional层，相当于把所有的序列正着输入进去一次，倒着在输入进去一次\n",
    "    对于语句训练而言，效果有略微的提升，原因在于我们阅读的时候顺序并没有那么重要\n",
    "    但是对于天气对于时间要求非常高的，逆序的数据输入进去得到的效果将会非常的差（这里就不写出来了）"
   ]
  },
  {
   "cell_type": "markdown",
   "metadata": {},
   "source": [
    "双向LSTM"
   ]
  },
  {
   "cell_type": "code",
   "execution_count": 3,
   "metadata": {},
   "outputs": [],
   "source": [
    "from keras.datasets import imdb\n",
    "from keras.preprocessing import sequence\n",
    "from keras import layers\n",
    "from keras.models import Sequential\n",
    "\n",
    "max_features = 10000\n",
    "maxlen = 500\n",
    "\n",
    "(x_train,y_train),(x_test,y_test)=imdb.load_data(num_words=max_features)\n",
    "x_train = [x[::-1]for x in x_train]\n",
    "x_test  =[x[::-1]for x in x_test]\n",
    "\n",
    "x_train = sequence.pad_sequences(x_train,maxlen=maxlen)\n",
    "x_test = sequence.pad_sequences(x_test,maxlen=maxlen)\n",
    "# x中的序列为一句话每个单词代表的索引，所以只用逆序x不用y，相当于把一句话反着来说"
   ]
  },
  {
   "cell_type": "code",
   "execution_count": 5,
   "metadata": {},
   "outputs": [
    {
     "name": "stdout",
     "output_type": "stream",
     "text": [
      "Epoch 1/10\n",
      "157/157 [==============================] - 10s 45ms/step - loss: 0.5835 - acc: 0.6962 - val_loss: 0.4541 - val_acc: 0.8272\n",
      "Epoch 2/10\n",
      "157/157 [==============================] - 7s 45ms/step - loss: 0.3591 - acc: 0.8571 - val_loss: 0.4195 - val_acc: 0.8070\n",
      "Epoch 3/10\n",
      "157/157 [==============================] - 7s 46ms/step - loss: 0.2784 - acc: 0.8964 - val_loss: 0.3346 - val_acc: 0.8664\n",
      "Epoch 4/10\n",
      "157/157 [==============================] - 7s 42ms/step - loss: 0.2400 - acc: 0.9109 - val_loss: 0.3696 - val_acc: 0.8608\n",
      "Epoch 5/10\n",
      "157/157 [==============================] - 7s 44ms/step - loss: 0.2143 - acc: 0.9239 - val_loss: 0.3107 - val_acc: 0.8782\n",
      "Epoch 6/10\n",
      "157/157 [==============================] - 7s 42ms/step - loss: 0.1896 - acc: 0.9345 - val_loss: 0.3676 - val_acc: 0.8778\n",
      "Epoch 7/10\n",
      "157/157 [==============================] - 8s 48ms/step - loss: 0.1711 - acc: 0.9399 - val_loss: 0.3484 - val_acc: 0.8732\n",
      "Epoch 8/10\n",
      "157/157 [==============================] - 7s 45ms/step - loss: 0.1517 - acc: 0.9479 - val_loss: 0.5509 - val_acc: 0.7970\n",
      "Epoch 9/10\n",
      "157/157 [==============================] - 7s 45ms/step - loss: 0.1430 - acc: 0.9512 - val_loss: 0.6576 - val_acc: 0.8388\n",
      "Epoch 10/10\n",
      "157/157 [==============================] - 7s 42ms/step - loss: 0.1337 - acc: 0.9558 - val_loss: 0.3761 - val_acc: 0.8760\n"
     ]
    }
   ],
   "source": [
    "model=Sequential()\n",
    "model.add(layers.Embedding(max_features,32))\n",
    "model.add(layers.Bidirectional(layers.LSTM(32)))\n",
    "model.add(layers.Dense(1,activation='sigmoid'))\n",
    "\n",
    "model.compile(optimizer='rmsprop',loss='binary_crossentropy',metrics=['acc'])\n",
    "history= model.fit(x_train,y_train,epochs=10,batch_size=128,validation_split=0.2)\n",
    "\n"
   ]
  },
  {
   "cell_type": "code",
   "execution_count": 6,
   "metadata": {},
   "outputs": [
    {
     "data": {
      "image/png": "[encoded data removed]",
      "text/plain": [
       "<Figure size 432x288 with 1 Axes>"
      ]
     },
     "metadata": {
      "needs_background": "light"
     },
     "output_type": "display_data"
    },
    {
     "data": {
      "image/png": "[encoded data removed]",
      "text/plain": [
       "<Figure size 432x288 with 1 Axes>"
      ]
     },
     "metadata": {
      "needs_background": "light"
     },
     "output_type": "display_data"
    }
   ],
   "source": [
    "from matplotlib import pyplot as plt\n",
    "acc= history.history['acc']\n",
    "val_acc = history.history['val_acc']\n",
    "loss=history.history['loss']\n",
    "val_loss=history.history['val_loss']\n",
    "\n",
    "epochs = range(1,len(loss)+1)\n",
    "\n",
    "plt.plot(epochs,acc,'bo',label='TRA acc')\n",
    "plt.plot(epochs,val_acc,'b',label='va acc')\n",
    "plt.title('Train and validation acc')\n",
    "plt.legend()\n",
    "plt.savefig('IMDB_biLSTM_v2_acc.png')\n",
    "plt.show()\n",
    "plt.figure()\n",
    "plt.plot(epochs,loss,'bo',label='TRA loss')\n",
    "plt.plot(epochs,val_loss,'b',label='va loss')\n",
    "plt.title('Train and validation loss')\n",
    "plt.legend()\n",
    "\n",
    "plt.savefig('GIMDB_biLSTM_v2_loss.png')\n",
    "plt.show()"
   ]
  }
 ],
 "metadata": {
  "interpreter": {
   "hash": "1da7e72ad87f70fcd0b6030ed64dbaf661c0a0480be1284c3d24ab4850818859"
  },
  "kernelspec": {
   "display_name": "Python 3.9.7 64-bit ('tensorflow': conda)",
   "language": "python",
   "name": "python3"
  },
  "language_info": {
   "codemirror_mode": {
    "name": "ipython",
    "version": 3
   },
   "file_extension": ".py",
   "mimetype": "text/x-python",
   "name": "python",
   "nbconvert_exporter": "python",
   "pygments_lexer": "ipython3",
   "version": "3.9.7"
  },
  "orig_nbformat": 4
 },
 "nbformat": 4,
 "nbformat_minor": 2
}
