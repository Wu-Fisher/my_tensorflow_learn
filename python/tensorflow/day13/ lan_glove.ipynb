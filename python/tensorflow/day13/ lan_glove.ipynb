{
 "cells": [
  {
   "cell_type": "markdown",
   "metadata": {},
   "source": [
    "# 使用预训练词嵌入"
   ]
  },
  {
   "cell_type": "markdown",
   "metadata": {},
   "source": [
    "下载imdb数据的原始文本 http://mng.bz/0tIo\n",
    "下载glove词嵌入 https://nlp.stanford.edu/projects/glove"
   ]
  },
  {
   "cell_type": "markdown",
   "metadata": {},
   "source": [
    "将训练评论转换成为字符串列表\n",
    "每个字符串对应一条评论"
   ]
  },
  {
   "cell_type": "code",
   "execution_count": 1,
   "metadata": {},
   "outputs": [],
   "source": [
    "import os\n",
    "\n",
    "imdb_dir = '/home/wufisher/dataset_m/lan_glo_imdb/aclImdb'\n",
    "train_dir= os.path.join(imdb_dir,'train')\n",
    "\n",
    "labels=[]\n",
    "texts=[]\n",
    "\n",
    "for label_type in ['neg','pos']:\n",
    "    dir_name = os.path.join(train_dir,label_type)\n",
    "    for fname in os.listdir(dir_name):\n",
    "        if fname[-4:]=='.txt':\n",
    "            f = open(os.path.join(dir_name,fname))\n",
    "            texts.append(f.read())\n",
    "            f.close()\n",
    "            if label_type == 'neg':\n",
    "                labels.append(0)\n",
    "            else:\n",
    "                labels.append(1)\n"
   ]
  },
  {
   "cell_type": "markdown",
   "metadata": {},
   "source": [
    "进行分词"
   ]
  },
  {
   "cell_type": "code",
   "execution_count": 2,
   "metadata": {},
   "outputs": [
    {
     "name": "stdout",
     "output_type": "stream",
     "text": [
      "Found 88582 unique tokens.\n",
      "Shape  of data tensor: (25000, 100)\n",
      "Shape of label tensor: (25000,)\n"
     ]
    }
   ],
   "source": [
    "from keras.preprocessing.text import Tokenizer\n",
    "from keras.preprocessing.sequence import pad_sequences\n",
    "\n",
    "import numpy as np\n",
    "\n",
    "\n",
    "maxlen=100\n",
    "#100个单词后截断\n",
    "training_samples=200\n",
    "#两百个样本训练\n",
    "validation_samples=10000\n",
    "#10000个样本训练\n",
    "max_words=10000\n",
    "#只考虑训练集中10000个最常见的单词\n",
    "\n",
    "\n",
    "tokenizer =Tokenizer(num_words=max_words)\n",
    "tokenizer.fit_on_texts(texts)\n",
    "sequences = tokenizer.texts_to_sequences(texts)\n",
    "\n",
    "word_index = tokenizer.word_index\n",
    "print('Found %s unique tokens.'% len(word_index))\n",
    "\n",
    "data= pad_sequences(sequences,maxlen=maxlen)\n",
    "\n",
    "labels = np.asarray(labels)\n",
    "print('Shape  of data tensor:',data.shape)\n",
    "print('Shape of label tensor:',labels.shape)\n",
    "\n",
    "\n",
    "# 由于数据集中是排好顺序的，所以这里需要打乱以下\n",
    "indices = np.arange(data.shape[0])\n",
    "np.random.shuffle(indices)\n",
    "data=data[indices]\n",
    "labels = labels[indices]\n",
    "\n",
    "x_train=data[:training_samples]\n",
    "y_train=labels[:training_samples]\n",
    "\n",
    "x_val=data[training_samples:training_samples+validation_samples]\n",
    "y_val=labels[training_samples:training_samples+validation_samples]"
   ]
  },
  {
   "cell_type": "markdown",
   "metadata": {},
   "source": [
    "预处理glove文件 .txt映射为向量索引"
   ]
  },
  {
   "cell_type": "code",
   "execution_count": 3,
   "metadata": {},
   "outputs": [],
   "source": [
    "glove_dir = '/home/wufisher/dataset_m/lan_glo_imdb/glove.6B'\n",
    "\n",
    "embeddings_index={}\n",
    "\n",
    "f = open(os.path.join(glove_dir,'glove.6B.100d.txt'))\n",
    "for line in f:\n",
    "    values = line.split()\n",
    "    word = values[0]\n",
    "    coefs = np.asarray(values[1:],dtype='float32')\n",
    "    embeddings_index[word]=coefs\n",
    "f.close()"
   ]
  },
  {
   "cell_type": "markdown",
   "metadata": {},
   "source": [
    "准备能够加载到embedding层中的嵌入矩阵，必须形状为（max_word,embedding_dim）\n",
    "索引为i的单词，对应embedding_dim维向，注意索引0不应该代表任何单词和占位\n",
    "embedding层可以输入整数索引矩阵所以这里没问题"
   ]
  },
  {
   "cell_type": "code",
   "execution_count": 4,
   "metadata": {},
   "outputs": [],
   "source": [
    "embedding_dim =100\n",
    "embedding_martix = np.zeros((max_words,embedding_dim))\n",
    "for word , i in word_index.items():\n",
    "    if i<max_words:\n",
    "        embedding_vector = embeddings_index.get(word)\n",
    "        if embedding_vector is not None:\n",
    "            embedding_martix[i]=embedding_vector\n",
    "\n"
   ]
  },
  {
   "cell_type": "code",
   "execution_count": 5,
   "metadata": {},
   "outputs": [
    {
     "name": "stdout",
     "output_type": "stream",
     "text": [
      "Model: \"sequential\"\n",
      "_________________________________________________________________\n",
      " Layer (type)                Output Shape              Param #   \n",
      "=================================================================\n",
      " embedding (Embedding)       (None, 100, 100)          1000000   \n",
      "                                                                 \n",
      " flatten (Flatten)           (None, 10000)             0         \n",
      "                                                                 \n",
      " dense (Dense)               (None, 32)                320032    \n",
      "                                                                 \n",
      " dense_1 (Dense)             (None, 1)                 33        \n",
      "                                                                 \n",
      "=================================================================\n",
      "Total params: 1,320,065\n",
      "Trainable params: 1,320,065\n",
      "Non-trainable params: 0\n",
      "_________________________________________________________________\n"
     ]
    },
    {
     "name": "stderr",
     "output_type": "stream",
     "text": [
      "2021-12-15 20:40:26.885217: I tensorflow/core/platform/cpu_feature_guard.cc:151] This TensorFlow binary is optimized with oneAPI Deep Neural Network Library (oneDNN) to use the following CPU instructions in performance-critical operations:  AVX2 AVX512F FMA\n",
      "To enable them in other operations, rebuild TensorFlow with the appropriate compiler flags.\n",
      "2021-12-15 20:40:27.391160: I tensorflow/core/common_runtime/gpu/gpu_device.cc:1525] Created device /job:localhost/replica:0/task:0/device:GPU:0 with 9140 MB memory:  -> device: 0, name: NVIDIA GeForce RTX 2080 Ti, pci bus id: 0000:65:00.0, compute capability: 7.5\n"
     ]
    }
   ],
   "source": [
    "from keras.models import Sequential\n",
    "from keras.layers import Embedding,Flatten,Dense\n",
    "\n",
    "model= Sequential()\n",
    "model.add(Embedding(max_words,embedding_dim,input_length=maxlen))\n",
    "model.add(Flatten())\n",
    "model.add(Dense(32,activation='relu'))\n",
    "model.add(Dense(1,activation='sigmoid'))\n",
    "model.summary()"
   ]
  },
  {
   "cell_type": "markdown",
   "metadata": {},
   "source": [
    "嵌入矩阵"
   ]
  },
  {
   "cell_type": "code",
   "execution_count": 6,
   "metadata": {},
   "outputs": [],
   "source": [
    "model.layers[0].set_weights([embedding_martix])\n",
    "#冻结\n",
    "model.layers[0].trainable=False"
   ]
  },
  {
   "cell_type": "markdown",
   "metadata": {},
   "source": [
    "训练"
   ]
  },
  {
   "cell_type": "code",
   "execution_count": 7,
   "metadata": {},
   "outputs": [
    {
     "name": "stdout",
     "output_type": "stream",
     "text": [
      "[[   0    0    0 ...   15   32 1302]\n",
      " [9613 2695 3546 ...    7  705  155]\n",
      " [ 625    2 4229 ...  430   71   12]\n",
      " ...\n",
      " [1129 2685   44 ...   97   27 7595]\n",
      " [   7    8   29 ...    7  961  467]\n",
      " [ 200   27 7216 ...  302 3603 1553]]\n"
     ]
    }
   ],
   "source": [
    "print(x_val)"
   ]
  },
  {
   "cell_type": "code",
   "execution_count": 8,
   "metadata": {},
   "outputs": [
    {
     "name": "stdout",
     "output_type": "stream",
     "text": [
      "Epoch 1/10\n",
      "7/7 [==============================] - 2s 152ms/step - loss: 1.2991 - acc: 0.4850 - val_loss: 0.9926 - val_acc: 0.5004\n",
      "Epoch 2/10\n",
      "7/7 [==============================] - 1s 139ms/step - loss: 0.6411 - acc: 0.6150 - val_loss: 0.7693 - val_acc: 0.5056\n",
      "Epoch 3/10\n",
      "7/7 [==============================] - 1s 144ms/step - loss: 0.4366 - acc: 0.7900 - val_loss: 0.6843 - val_acc: 0.5697\n",
      "Epoch 4/10\n",
      "7/7 [==============================] - 1s 136ms/step - loss: 0.2706 - acc: 0.9350 - val_loss: 0.7169 - val_acc: 0.5553\n",
      "Epoch 5/10\n",
      "7/7 [==============================] - 1s 149ms/step - loss: 0.6214 - acc: 0.7000 - val_loss: 0.6912 - val_acc: 0.5768\n",
      "Epoch 6/10\n",
      "7/7 [==============================] - 1s 160ms/step - loss: 0.1050 - acc: 0.9950 - val_loss: 0.7002 - val_acc: 0.5756\n",
      "Epoch 7/10\n",
      "7/7 [==============================] - 1s 152ms/step - loss: 0.0883 - acc: 1.0000 - val_loss: 0.9106 - val_acc: 0.5244\n",
      "Epoch 8/10\n",
      "7/7 [==============================] - 1s 152ms/step - loss: 0.0721 - acc: 1.0000 - val_loss: 0.7858 - val_acc: 0.5577\n",
      "Epoch 9/10\n",
      "7/7 [==============================] - 1s 151ms/step - loss: 0.0381 - acc: 1.0000 - val_loss: 1.1186 - val_acc: 0.5194\n",
      "Epoch 10/10\n",
      "7/7 [==============================] - 1s 145ms/step - loss: 0.4039 - acc: 0.8250 - val_loss: 0.7541 - val_acc: 0.5785\n"
     ]
    }
   ],
   "source": [
    "model.compile(optimizer='rmsprop',\n",
    "loss='binary_crossentropy',\n",
    "metrics=['acc'])\n",
    "history=model.fit(x_train,y_train,epochs=10,batch_size=32,validation_data=(x_val,y_val))\n",
    "model.save_weights('/home/wufisher/dataset_m/h5inside/lan_glove_model.h5')"
   ]
  },
  {
   "cell_type": "code",
   "execution_count": 9,
   "metadata": {},
   "outputs": [
    {
     "name": "stdout",
     "output_type": "stream",
     "text": [
      "dict_keys(['loss', 'acc', 'val_loss', 'val_acc'])\n"
     ]
    }
   ],
   "source": [
    "print(history.history.keys())"
   ]
  },
  {
   "cell_type": "code",
   "execution_count": 14,
   "metadata": {},
   "outputs": [
    {
     "data": {
      "image/png": "[encoded data removed]",
      "text/plain": [
       "<Figure size 432x288 with 1 Axes>"
      ]
     },
     "metadata": {
      "needs_background": "light"
     },
     "output_type": "display_data"
    },
    {
     "data": {
      "image/png": "[encoded data removed]",
      "text/plain": [
       "<Figure size 432x288 with 1 Axes>"
      ]
     },
     "metadata": {
      "needs_background": "light"
     },
     "output_type": "display_data"
    }
   ],
   "source": [
    "import matplotlib.pyplot as plt\n",
    "\n",
    "acc= history.history['acc']\n",
    "val_acc = history.history['val_acc']\n",
    "loss=history.history['loss']\n",
    "val_loss=history.history['val_loss']\n",
    "\n",
    "epochs = range(1,len(acc)+1)\n",
    "\n",
    "plt.plot(epochs,acc,'bo',label='TRA ACC')\n",
    "plt.plot(epochs,val_acc,'b',label='va acc')\n",
    "plt.title('Train and validation accuracy')\n",
    "plt.legend()\n",
    "plt.savefig('glove_emb_lan_acc.png')\n",
    "plt.figure()\n",
    "\n",
    "plt.plot(epochs,loss,'bo',label='TRA acc')\n",
    "plt.plot(epochs,val_loss,'b',label='va loss')\n",
    "plt.title('Train and validation loss')\n",
    "plt.legend()\n",
    "\n",
    "plt.savefig('glove_emb_lan_loss.png')\n",
    "plt.show()"
   ]
  },
  {
   "cell_type": "markdown",
   "metadata": {},
   "source": [
    "在来看一下不用词嵌入"
   ]
  },
  {
   "cell_type": "code",
   "execution_count": 15,
   "metadata": {},
   "outputs": [
    {
     "name": "stdout",
     "output_type": "stream",
     "text": [
      "Model: \"sequential_2\"\n",
      "_________________________________________________________________\n",
      " Layer (type)                Output Shape              Param #   \n",
      "=================================================================\n",
      " embedding_2 (Embedding)     (None, 100, 100)          1000000   \n",
      "                                                                 \n",
      " flatten_2 (Flatten)         (None, 10000)             0         \n",
      "                                                                 \n",
      " dense_4 (Dense)             (None, 32)                320032    \n",
      "                                                                 \n",
      " dense_5 (Dense)             (None, 1)                 33        \n",
      "                                                                 \n",
      "=================================================================\n",
      "Total params: 1,320,065\n",
      "Trainable params: 1,320,065\n",
      "Non-trainable params: 0\n",
      "_________________________________________________________________\n",
      "Epoch 1/10\n",
      "7/7 [==============================] - 1s 170ms/step - loss: 0.6932 - acc: 0.5150 - val_loss: 0.6923 - val_acc: 0.5145\n",
      "Epoch 2/10\n",
      "7/7 [==============================] - 1s 148ms/step - loss: 0.4946 - acc: 0.9800 - val_loss: 0.6925 - val_acc: 0.5225\n",
      "Epoch 3/10\n",
      "7/7 [==============================] - 1s 145ms/step - loss: 0.2750 - acc: 0.9850 - val_loss: 0.6953 - val_acc: 0.5249\n",
      "Epoch 4/10\n",
      "7/7 [==============================] - 1s 147ms/step - loss: 0.1190 - acc: 1.0000 - val_loss: 0.7003 - val_acc: 0.5274\n",
      "Epoch 5/10\n",
      "7/7 [==============================] - 1s 145ms/step - loss: 0.0561 - acc: 1.0000 - val_loss: 0.7044 - val_acc: 0.5288\n",
      "Epoch 6/10\n",
      "7/7 [==============================] - 1s 144ms/step - loss: 0.0288 - acc: 1.0000 - val_loss: 0.7171 - val_acc: 0.5244\n",
      "Epoch 7/10\n",
      "7/7 [==============================] - 1s 155ms/step - loss: 0.0159 - acc: 1.0000 - val_loss: 0.7138 - val_acc: 0.5305\n",
      "Epoch 8/10\n",
      "7/7 [==============================] - 1s 148ms/step - loss: 0.0090 - acc: 1.0000 - val_loss: 0.7190 - val_acc: 0.5291\n",
      "Epoch 9/10\n",
      "7/7 [==============================] - 1s 147ms/step - loss: 0.0054 - acc: 1.0000 - val_loss: 0.7209 - val_acc: 0.5367\n",
      "Epoch 10/10\n",
      "7/7 [==============================] - 1s 146ms/step - loss: 0.0032 - acc: 1.0000 - val_loss: 0.7251 - val_acc: 0.5373\n"
     ]
    },
    {
     "data": {
      "image/png": "[encoded data removed]",
      "text/plain": [
       "<Figure size 432x288 with 1 Axes>"
      ]
     },
     "metadata": {
      "needs_background": "light"
     },
     "output_type": "display_data"
    },
    {
     "data": {
      "image/png": "[encoded data removed]",
      "text/plain": [
       "<Figure size 432x288 with 1 Axes>"
      ]
     },
     "metadata": {
      "needs_background": "light"
     },
     "output_type": "display_data"
    }
   ],
   "source": [
    "from keras.models import Sequential\n",
    "from keras.layers import Embedding, Flatten, Dense\n",
    "model = Sequential()\n",
    "model.add(Embedding(max_words, embedding_dim, input_length=maxlen))\n",
    "model.add(Flatten())\n",
    "model.add(Dense(32, activation='relu'))\n",
    "model.add(Dense(1, activation='sigmoid'))\n",
    "model.summary()\n",
    "model.compile(optimizer='rmsprop',\n",
    "loss='binary_crossentropy',\n",
    "metrics=['acc'])\n",
    "history = model.fit(x_train, y_train,\n",
    "epochs=10,\n",
    "batch_size=32,\n",
    "validation_data=(x_val, y_val))\n",
    "\n",
    "acc= history.history['acc']\n",
    "val_acc = history.history['val_acc']\n",
    "loss=history.history['loss']\n",
    "val_loss=history.history['val_loss']\n",
    "\n",
    "epochs = range(1,len(acc)+1)\n",
    "\n",
    "plt.plot(epochs,acc,'bo',label='TRA ACC')\n",
    "plt.plot(epochs,val_acc,'b',label='va acc')\n",
    "plt.title('Train and validation accuracy')\n",
    "plt.legend()\n",
    "\n",
    "plt.savefig('without_glove_emb_lan_acc.png')\n",
    "plt.figure()\n",
    "\n",
    "plt.plot(epochs,loss,'bo',label='TRA acc')\n",
    "plt.plot(epochs,val_loss,'b',label='va loss')\n",
    "plt.title('Train and validation loss')\n",
    "plt.legend()\n",
    "\n",
    "plt.savefig('without_glove_emb_lan_loss.png')\n",
    "plt.show()"
   ]
  },
  {
   "cell_type": "markdown",
   "metadata": {},
   "source": [
    "显然预训练词的加入更好\n",
    "现在我们来测试一下第一个模型"
   ]
  },
  {
   "cell_type": "code",
   "execution_count": 13,
   "metadata": {},
   "outputs": [
    {
     "name": "stdout",
     "output_type": "stream",
     "text": [
      "782/782 [==============================] - 3s 3ms/step - loss: 0.7589 - acc: 0.5725\n"
     ]
    },
    {
     "data": {
      "text/plain": [
       "[0.7588797807693481, 0.5724800229072571]"
      ]
     },
     "execution_count": 13,
     "metadata": {},
     "output_type": "execute_result"
    }
   ],
   "source": [
    "test_dir = os.path.join(imdb_dir, 'test')\n",
    "\n",
    "labels = []\n",
    "texts = []\n",
    "for label_type in ['neg', 'pos']:\n",
    "    dir_name = os.path.join(test_dir, label_type)\n",
    "    for fname in sorted(os.listdir(dir_name)):\n",
    "        if fname[-4:] == '.txt':\n",
    "            f = open(os.path.join(dir_name, fname))\n",
    "            texts.append(f.read())\n",
    "            f.close()\n",
    "            if label_type == 'neg':\n",
    "                labels.append(0)\n",
    "            else:\n",
    "                labels.append(1)\n",
    "sequences = tokenizer.texts_to_sequences(texts)\n",
    "x_test = pad_sequences(sequences, maxlen=maxlen)\n",
    "y_test = np.asarray(labels)\n",
    "\n",
    "model.load_weights('/home/wufisher/dataset_m/h5inside/lan_glove_model.h5')\n",
    "model.evaluate(x_test,y_test)"
   ]
  },
  {
   "cell_type": "markdown",
   "metadata": {},
   "source": [
    "精度达到惊人的57%效果还是非常perfect"
   ]
  }
 ],
 "metadata": {
  "interpreter": {
   "hash": "1da7e72ad87f70fcd0b6030ed64dbaf661c0a0480be1284c3d24ab4850818859"
  },
  "kernelspec": {
   "display_name": "Python 3.9.7 64-bit ('tensorflow': conda)",
   "language": "python",
   "name": "python3"
  },
  "language_info": {
   "codemirror_mode": {
    "name": "ipython",
    "version": 3
   },
   "file_extension": ".py",
   "mimetype": "text/x-python",
   "name": "python",
   "nbconvert_exporter": "python",
   "pygments_lexer": "ipython3",
   "version": "3.9.7"
  },
  "orig_nbformat": 4
 },
 "nbformat": 4,
 "nbformat_minor": 2
}
