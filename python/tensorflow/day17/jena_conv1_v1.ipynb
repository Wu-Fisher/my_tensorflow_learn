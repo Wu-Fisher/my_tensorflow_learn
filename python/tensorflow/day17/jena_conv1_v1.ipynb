{
 "cells": [
  {
   "cell_type": "markdown",
   "metadata": {},
   "source": [
    "## 在耶拿数据上处理\n",
    "\n"
   ]
  },
  {
   "cell_type": "markdown",
   "metadata": {},
   "source": [
    "# 大坑！recurrent_dropout==0才能cudnn加速"
   ]
  },
  {
   "cell_type": "markdown",
   "metadata": {},
   "source": [
    "首先只用卷积层"
   ]
  },
  {
   "cell_type": "code",
   "execution_count": 1,
   "metadata": {},
   "outputs": [
    {
     "name": "stdout",
     "output_type": "stream",
     "text": [
      "['\"Date Time\"', '\"p (mbar)\"', '\"T (degC)\"', '\"Tpot (K)\"', '\"Tdew (degC)\"', '\"rh (%)\"', '\"VPmax (mbar)\"', '\"VPact (mbar)\"', '\"VPdef (mbar)\"', '\"sh (g/kg)\"', '\"H2OC (mmol/mol)\"', '\"rho (g/m**3)\"', '\"wv (m/s)\"', '\"max. wv (m/s)\"', '\"wd (deg)\"']\n",
      "420451\n"
     ]
    }
   ],
   "source": [
    "import os\n",
    "\n",
    "data_dir ='/home/wufisher/dataset_m/jena_climate'\n",
    "fname= os.path.join(data_dir,'jena_climate_2009_2016.csv')\n",
    "\n",
    "f = open(fname)\n",
    "data = f.read()\n",
    "f.close()\n",
    "\n",
    "lines = data.split('\\n')\n",
    "header = lines[0].split(',')\n",
    "lines = lines[1:]\n",
    "\n",
    "print(header)\n",
    "print(len(lines))\n",
    "import numpy as np\n",
    "\n",
    "\n",
    "float_data = np.zeros((len(lines),len(header)-1))\n",
    "for i,line in enumerate(lines):\n",
    "    values = [float(x) for x in line.split(',')[1:]]\n",
    "    float_data[i,:]=values\n",
    "\n",
    "mean= float_data[:200000].mean(axis=0)\n",
    "float_data-=mean\n",
    "std =  float_data[:200000].std(axis=0)\n",
    "float_data/=std\n",
    "\n",
    "def generator(data,lookback,delay,min_index,max_index,shuffle=False,batch_sice=128,step=6):\n",
    "    if max_index is None:\n",
    "        max_index = len(data)-delay-1\n",
    "    i = min_index+lookback\n",
    "    while 1 :\n",
    "        if shuffle:\n",
    "            rows = np.random.randint(\n",
    "                min_index+lookback,max_index,size=batch_sice\n",
    "            )\n",
    "        else :\n",
    "            if i+batch_sice>=max_index:\n",
    "                i=min_index+lookback\n",
    "            rows=np.arange(i,min(i+batch_sice,max_index))\n",
    "            i+=len(rows)\n",
    "\n",
    "        samples = np.zeros((len(rows),lookback//step,data.shape[-1]))\n",
    "        targets = np.zeros((len(rows),))\n",
    "\n",
    "        for j , row in enumerate(rows):\n",
    "            indices = range(rows[j]-lookback,rows[j],step)\n",
    "            samples[j]=data[indices]\n",
    "            targets[j]=data[rows[j]+delay][1]\n",
    "        yield samples , targets\n",
    "\n",
    "lookback  = 1440\n",
    "step = 6\n",
    "delay = 144\n",
    "batch_size = 128\n",
    "\n",
    "train_gen = generator(float_data,\n",
    "lookback=lookback,\n",
    "delay=delay,\n",
    "min_index=0,\n",
    "max_index=200000,\n",
    "shuffle=True,\n",
    "step=step,\n",
    "batch_sice=batch_size)\n",
    "\n",
    "val_gen = generator(float_data,\n",
    "lookback=lookback,\n",
    "delay=delay,\n",
    "min_index=200001,\n",
    "max_index=300000,\n",
    "step=step,\n",
    "batch_sice=batch_size)\n",
    "\n",
    "test_gen = generator(float_data,\n",
    "lookback=lookback,\n",
    "delay=delay,\n",
    "min_index=300001,\n",
    "max_index=None,\n",
    "step=step,\n",
    "batch_sice=batch_size)\n",
    "\n",
    "# 得到验证和测试需要抽取多少次\n",
    "\n",
    "val_steps = (300000-200001-lookback)//batch_size\n",
    "test_steps = (len(float_data)-300001-lookback)//batch_size"
   ]
  },
  {
   "cell_type": "code",
   "execution_count": 2,
   "metadata": {},
   "outputs": [
    {
     "name": "stderr",
     "output_type": "stream",
     "text": [
      "2021-12-22 20:20:36.595474: I tensorflow/core/platform/cpu_feature_guard.cc:151] This TensorFlow binary is optimized with oneAPI Deep Neural Network Library (oneDNN) to use the following CPU instructions in performance-critical operations:  AVX2 AVX512F FMA\n",
      "To enable them in other operations, rebuild TensorFlow with the appropriate compiler flags.\n",
      "2021-12-22 20:20:37.081131: I tensorflow/core/common_runtime/gpu/gpu_device.cc:1525] Created device /job:localhost/replica:0/task:0/device:GPU:0 with 9118 MB memory:  -> device: 0, name: NVIDIA GeForce RTX 2080 Ti, pci bus id: 0000:65:00.0, compute capability: 7.5\n"
     ]
    },
    {
     "name": "stdout",
     "output_type": "stream",
     "text": [
      "Epoch 1/20\n"
     ]
    },
    {
     "name": "stderr",
     "output_type": "stream",
     "text": [
      "2021-12-22 20:20:38.276986: I tensorflow/stream_executor/cuda/cuda_dnn.cc:366] Loaded cuDNN version 8201\n"
     ]
    },
    {
     "name": "stdout",
     "output_type": "stream",
     "text": [
      "500/500 [==============================] - 16s 27ms/step - loss: 0.4087 - val_loss: 0.4511\n",
      "Epoch 2/20\n",
      "500/500 [==============================] - 14s 28ms/step - loss: 0.3564 - val_loss: 0.4639\n",
      "Epoch 3/20\n",
      "500/500 [==============================] - 13s 26ms/step - loss: 0.3337 - val_loss: 0.4612\n",
      "Epoch 4/20\n",
      "500/500 [==============================] - 14s 28ms/step - loss: 0.3178 - val_loss: 0.4428\n",
      "Epoch 5/20\n",
      "500/500 [==============================] - 15s 30ms/step - loss: 0.3077 - val_loss: 0.4662\n",
      "Epoch 6/20\n",
      "500/500 [==============================] - 14s 29ms/step - loss: 0.2980 - val_loss: 0.4492\n",
      "Epoch 7/20\n",
      "500/500 [==============================] - 14s 29ms/step - loss: 0.2904 - val_loss: 0.5099\n",
      "Epoch 8/20\n",
      "500/500 [==============================] - 13s 27ms/step - loss: 0.2839 - val_loss: 0.4593\n",
      "Epoch 9/20\n",
      "500/500 [==============================] - 13s 27ms/step - loss: 0.2802 - val_loss: 0.4599\n",
      "Epoch 10/20\n",
      "500/500 [==============================] - 14s 28ms/step - loss: 0.2762 - val_loss: 0.4676\n",
      "Epoch 11/20\n",
      "500/500 [==============================] - 14s 28ms/step - loss: 0.2715 - val_loss: 0.4646\n",
      "Epoch 12/20\n",
      "500/500 [==============================] - 14s 28ms/step - loss: 0.2672 - val_loss: 0.4650\n",
      "Epoch 13/20\n",
      "500/500 [==============================] - 14s 29ms/step - loss: 0.2646 - val_loss: 0.4646\n",
      "Epoch 14/20\n",
      "500/500 [==============================] - 14s 29ms/step - loss: 0.2614 - val_loss: 0.4680\n",
      "Epoch 15/20\n",
      "500/500 [==============================] - 14s 29ms/step - loss: 0.2584 - val_loss: 0.4626\n",
      "Epoch 16/20\n",
      "500/500 [==============================] - 14s 27ms/step - loss: 0.2565 - val_loss: 0.4692\n",
      "Epoch 17/20\n",
      "500/500 [==============================] - 14s 28ms/step - loss: 0.2525 - val_loss: 0.4705\n",
      "Epoch 18/20\n",
      "500/500 [==============================] - 13s 27ms/step - loss: 0.2513 - val_loss: 0.4593\n",
      "Epoch 19/20\n",
      "500/500 [==============================] - 14s 27ms/step - loss: 0.2473 - val_loss: 0.4820\n",
      "Epoch 20/20\n",
      "500/500 [==============================] - 13s 27ms/step - loss: 0.2462 - val_loss: 0.4667\n"
     ]
    }
   ],
   "source": [
    "from keras.models import Sequential\n",
    "from keras import layers\n",
    "from keras.optimizers import rmsprop_v2\n",
    "\n",
    "model= Sequential()\n",
    "model.add(layers.Conv1D(32,5,activation='relu',input_shape=(None,float_data.shape[-1])))\n",
    "model.add(layers.MaxPooling1D(3))\n",
    "model.add(layers.Conv1D(32,5,activation='relu'))\n",
    "model.add(layers.MaxPooling1D(3))\n",
    "model.add(layers.Conv1D(32,5,activation='relu'))\n",
    "model.add(layers.GlobalMaxPool1D())\n",
    "model.add(layers.Dense(1))\n",
    "\n",
    "model.compile(optimizer=rmsprop_v2.RMSprop(),loss='mae')\n",
    "history = model.fit(\n",
    "    train_gen,\n",
    "    steps_per_epoch=500,\n",
    "    epochs=20,\n",
    "    validation_data=val_gen,\n",
    "    validation_steps=val_steps\n",
    ")"
   ]
  },
  {
   "cell_type": "code",
   "execution_count": 3,
   "metadata": {},
   "outputs": [
    {
     "data": {
      "image/png": "[encoded data removed]",
      "text/plain": [
       "<Figure size 432x288 with 1 Axes>"
      ]
     },
     "metadata": {
      "needs_background": "light"
     },
     "output_type": "display_data"
    }
   ],
   "source": [
    "from matplotlib import pyplot as plt\n",
    "loss=history.history['loss']\n",
    "val_loss=history.history['val_loss']\n",
    "\n",
    "epochs = range(1,len(loss)+1)\n",
    "plt.plot(epochs,loss,'bo',label='TRA loss')\n",
    "plt.plot(epochs,val_loss,'b',label='va loss')\n",
    "plt.title('Train and validation loss')\n",
    "plt.legend()\n",
    "\n",
    "plt.savefig('jena_conv1_v1_loss.png')\n",
    "plt.show()"
   ]
  },
  {
   "cell_type": "markdown",
   "metadata": {},
   "source": [
    "    使用卷积的时候由于并不能对数据点出现的时间（较早较晚对于预测的影响不同）产生变化\n",
    "    但是卷积在对于时间序列非常长的时候可以将一维CNN提取为更短的CNN，在作为RNN序列输入进去，两者结合使用\n",
    "    这里我们修改以下数据生成器，用更长的lookback或者更密集的step"
   ]
  },
  {
   "cell_type": "code",
   "execution_count": 9,
   "metadata": {},
   "outputs": [],
   "source": [
    "lookback  = 720\n",
    "# 这里修改step\n",
    "step = 3\n",
    "delay = 144\n",
    "batch_size = 128\n",
    "\n",
    "train_gen = generator(float_data,\n",
    "lookback=lookback,\n",
    "delay=delay,\n",
    "min_index=0,\n",
    "max_index=200000,\n",
    "shuffle=True,\n",
    "step=step,\n",
    "batch_sice=batch_size)\n",
    "\n",
    "val_gen = generator(float_data,\n",
    "lookback=lookback,\n",
    "delay=delay,\n",
    "min_index=200001,\n",
    "max_index=300000,\n",
    "step=step,\n",
    "batch_sice=batch_size)\n",
    "\n",
    "test_gen = generator(float_data,\n",
    "lookback=lookback,\n",
    "delay=delay,\n",
    "min_index=300001,\n",
    "max_index=None,\n",
    "step=step,\n",
    "batch_sice=batch_size)\n",
    "\n",
    "# 得到验证和测试需要抽取多少次\n",
    "\n",
    "val_steps = (300000-200001-lookback)//batch_size\n",
    "test_steps = (len(float_data)-300001-lookback)//batch_size"
   ]
  },
  {
   "cell_type": "code",
   "execution_count": 10,
   "metadata": {},
   "outputs": [
    {
     "name": "stdout",
     "output_type": "stream",
     "text": [
      "Model: \"sequential_3\"\n",
      "_________________________________________________________________\n",
      " Layer (type)                Output Shape              Param #   \n",
      "=================================================================\n",
      " conv1d_7 (Conv1D)           (None, None, 32)          2272      \n",
      "                                                                 \n",
      " max_pooling1d_6 (MaxPooling  (None, None, 32)         0         \n",
      " 1D)                                                             \n",
      "                                                                 \n",
      " conv1d_8 (Conv1D)           (None, None, 32)          5152      \n",
      "                                                                 \n",
      " max_pooling1d_7 (MaxPooling  (None, None, 32)         0         \n",
      " 1D)                                                             \n",
      "                                                                 \n",
      " gru_2 (GRU)                 (None, 32)                6336      \n",
      "                                                                 \n",
      " dense_3 (Dense)             (None, 1)                 33        \n",
      "                                                                 \n",
      "=================================================================\n",
      "Total params: 13,793\n",
      "Trainable params: 13,793\n",
      "Non-trainable params: 0\n",
      "_________________________________________________________________\n",
      "Epoch 1/20\n",
      "500/500 [==============================] - 15s 28ms/step - loss: 0.3438 - val_loss: 0.3033\n",
      "Epoch 2/20\n",
      "500/500 [==============================] - 15s 30ms/step - loss: 0.3024 - val_loss: 0.3307\n",
      "Epoch 3/20\n",
      "500/500 [==============================] - 14s 29ms/step - loss: 0.2814 - val_loss: 0.2997\n",
      "Epoch 4/20\n",
      "500/500 [==============================] - 14s 28ms/step - loss: 0.2618 - val_loss: 0.3113\n",
      "Epoch 5/20\n",
      "500/500 [==============================] - 14s 28ms/step - loss: 0.2492 - val_loss: 0.3235\n",
      "Epoch 6/20\n",
      "500/500 [==============================] - 14s 28ms/step - loss: 0.2354 - val_loss: 0.3185\n",
      "Epoch 7/20\n",
      "500/500 [==============================] - 14s 28ms/step - loss: 0.2223 - val_loss: 0.3267\n",
      "Epoch 8/20\n",
      "500/500 [==============================] - 14s 27ms/step - loss: 0.2126 - val_loss: 0.3292\n",
      "Epoch 9/20\n",
      "500/500 [==============================] - 13s 26ms/step - loss: 0.2039 - val_loss: 0.3328\n",
      "Epoch 10/20\n",
      "500/500 [==============================] - 14s 28ms/step - loss: 0.1941 - val_loss: 0.3595\n",
      "Epoch 11/20\n",
      "500/500 [==============================] - 14s 27ms/step - loss: 0.1862 - val_loss: 0.3449\n",
      "Epoch 12/20\n",
      "500/500 [==============================] - 14s 28ms/step - loss: 0.1808 - val_loss: 0.3476\n",
      "Epoch 13/20\n",
      "500/500 [==============================] - 14s 28ms/step - loss: 0.1740 - val_loss: 0.3527\n",
      "Epoch 14/20\n",
      "500/500 [==============================] - 13s 27ms/step - loss: 0.1679 - val_loss: 0.3498\n",
      "Epoch 15/20\n",
      "500/500 [==============================] - 15s 29ms/step - loss: 0.1638 - val_loss: 0.3530\n",
      "Epoch 16/20\n",
      "500/500 [==============================] - 14s 28ms/step - loss: 0.1603 - val_loss: 0.3654\n",
      "Epoch 17/20\n",
      "500/500 [==============================] - 14s 28ms/step - loss: 0.1557 - val_loss: 0.3620\n",
      "Epoch 18/20\n",
      "500/500 [==============================] - 15s 29ms/step - loss: 0.1536 - val_loss: 0.3708\n",
      "Epoch 19/20\n",
      "500/500 [==============================] - 14s 28ms/step - loss: 0.1502 - val_loss: 0.3625\n",
      "Epoch 20/20\n",
      "500/500 [==============================] - 14s 28ms/step - loss: 0.1473 - val_loss: 0.3687\n"
     ]
    }
   ],
   "source": [
    "from keras.models import Sequential\n",
    "from keras import layers\n",
    "from keras.optimizers import rmsprop_v2\n",
    "\n",
    "model= Sequential()\n",
    "model.add(layers.Conv1D(32,5,activation='relu',input_shape=(None,float_data.shape[-1])))\n",
    "model.add(layers.MaxPooling1D(3))\n",
    "model.add(layers.Conv1D(32,5,activation='relu'))\n",
    "model.add(layers.MaxPooling1D(3))\n",
    "model.add(layers.GRU(32))\n",
    "model.add(layers.Dense(1))\n",
    "model.summary()\n",
    "model.compile(optimizer=rmsprop_v2.RMSprop(),loss='mae')\n",
    "history = model.fit(\n",
    "    train_gen,\n",
    "    steps_per_epoch=500,\n",
    "    epochs=20,\n",
    "    validation_data=val_gen,\n",
    "    validation_steps=val_steps\n",
    ")"
   ]
  },
  {
   "cell_type": "code",
   "execution_count": 11,
   "metadata": {},
   "outputs": [
    {
     "data": {
      "image/png": "[encoded data removed]",
      "text/plain": [
       "<Figure size 432x288 with 1 Axes>"
      ]
     },
     "metadata": {
      "needs_background": "light"
     },
     "output_type": "display_data"
    }
   ],
   "source": [
    "from matplotlib import pyplot as plt\n",
    "loss=history.history['loss']\n",
    "val_loss=history.history['val_loss']\n",
    "\n",
    "epochs = range(1,len(loss)+1)\n",
    "plt.plot(epochs,loss,'bo',label='TRA loss')\n",
    "plt.plot(epochs,val_loss,'b',label='va loss')\n",
    "plt.title('Train and validation loss')\n",
    "plt.legend()\n",
    "\n",
    "plt.savefig('jena_conv1_v2_loss.png')\n",
    "plt.show()"
   ]
  },
  {
   "cell_type": "markdown",
   "metadata": {},
   "source": [
    "    效果虽然不如只用正则化，但是速度却快了很多    "
   ]
  },
  {
   "cell_type": "code",
   "execution_count": 13,
   "metadata": {},
   "outputs": [
    {
     "name": "stdout",
     "output_type": "stream",
     "text": [
      "Model: \"sequential_4\"\n",
      "_________________________________________________________________\n",
      " Layer (type)                Output Shape              Param #   \n",
      "=================================================================\n",
      " conv1d_9 (Conv1D)           (None, None, 32)          2272      \n",
      "                                                                 \n",
      " max_pooling1d_8 (MaxPooling  (None, None, 32)         0         \n",
      " 1D)                                                             \n",
      "                                                                 \n",
      " conv1d_10 (Conv1D)          (None, None, 32)          5152      \n",
      "                                                                 \n",
      " max_pooling1d_9 (MaxPooling  (None, None, 32)         0         \n",
      " 1D)                                                             \n",
      "                                                                 \n",
      " gru_3 (GRU)                 (None, 33)                6633      \n",
      "                                                                 \n",
      " dense_4 (Dense)             (None, 1)                 34        \n",
      "                                                                 \n",
      "=================================================================\n",
      "Total params: 14,091\n",
      "Trainable params: 14,091\n",
      "Non-trainable params: 0\n",
      "_________________________________________________________________\n",
      "Epoch 1/20\n",
      "500/500 [==============================] - 16s 30ms/step - loss: 0.3545 - val_loss: 0.3074\n",
      "Epoch 2/20\n",
      "500/500 [==============================] - 14s 27ms/step - loss: 0.3114 - val_loss: 0.3085\n",
      "Epoch 3/20\n",
      "500/500 [==============================] - 14s 29ms/step - loss: 0.2915 - val_loss: 0.3063\n",
      "Epoch 4/20\n",
      "500/500 [==============================] - 14s 28ms/step - loss: 0.2800 - val_loss: 0.3006\n",
      "Epoch 5/20\n",
      "500/500 [==============================] - 14s 28ms/step - loss: 0.2693 - val_loss: 0.3428\n",
      "Epoch 6/20\n",
      "500/500 [==============================] - 14s 29ms/step - loss: 0.2607 - val_loss: 0.3229\n",
      "Epoch 7/20\n",
      "500/500 [==============================] - 15s 29ms/step - loss: 0.2503 - val_loss: 0.3209\n",
      "Epoch 8/20\n",
      "500/500 [==============================] - 14s 29ms/step - loss: 0.2430 - val_loss: 0.3156\n",
      "Epoch 9/20\n",
      "500/500 [==============================] - 14s 29ms/step - loss: 0.2354 - val_loss: 0.3208\n",
      "Epoch 10/20\n",
      "500/500 [==============================] - 15s 29ms/step - loss: 0.2272 - val_loss: 0.3238\n",
      "Epoch 11/20\n",
      "500/500 [==============================] - 15s 30ms/step - loss: 0.2196 - val_loss: 0.3275\n",
      "Epoch 12/20\n",
      "500/500 [==============================] - 14s 28ms/step - loss: 0.2160 - val_loss: 0.3313\n",
      "Epoch 13/20\n",
      "500/500 [==============================] - 14s 28ms/step - loss: 0.2091 - val_loss: 0.3487\n",
      "Epoch 14/20\n",
      "500/500 [==============================] - 14s 27ms/step - loss: 0.2047 - val_loss: 0.3321\n",
      "Epoch 15/20\n",
      "500/500 [==============================] - 14s 28ms/step - loss: 0.2003 - val_loss: 0.3308\n",
      "Epoch 16/20\n",
      "500/500 [==============================] - 14s 28ms/step - loss: 0.1960 - val_loss: 0.3449\n",
      "Epoch 17/20\n",
      "500/500 [==============================] - 15s 30ms/step - loss: 0.1929 - val_loss: 0.3469\n",
      "Epoch 18/20\n",
      "500/500 [==============================] - 14s 29ms/step - loss: 0.1888 - val_loss: 0.3448\n",
      "Epoch 19/20\n",
      "500/500 [==============================] - 14s 27ms/step - loss: 0.1861 - val_loss: 0.3408\n",
      "Epoch 20/20\n",
      "500/500 [==============================] - 14s 28ms/step - loss: 0.1831 - val_loss: 0.3487\n"
     ]
    }
   ],
   "source": [
    "from keras.models import Sequential\n",
    "from keras import layers\n",
    "from keras.optimizers import rmsprop_v2\n",
    "\n",
    "model= Sequential()\n",
    "model.add(layers.Conv1D(32,5,activation='relu',input_shape=(None,float_data.shape[-1])))\n",
    "model.add(layers.MaxPooling1D(3))\n",
    "model.add(layers.Conv1D(32,5,activation='relu'))\n",
    "model.add(layers.MaxPooling1D(3))\n",
    "model.add(layers.GRU(33,dropout=0.1))\n",
    "model.add(layers.Dense(1))\n",
    "model.summary()\n",
    "model.compile(optimizer=rmsprop_v2.RMSprop(),loss='mae')\n",
    "history = model.fit(\n",
    "    train_gen,\n",
    "    steps_per_epoch=500,\n",
    "    epochs=20,\n",
    "    validation_data=val_gen,\n",
    "    validation_steps=val_steps\n",
    ")"
   ]
  },
  {
   "cell_type": "code",
   "execution_count": 14,
   "metadata": {},
   "outputs": [
    {
     "data": {
      "image/png": "[encoded data removed]",
      "text/plain": [
       "<Figure size 432x288 with 1 Axes>"
      ]
     },
     "metadata": {
      "needs_background": "light"
     },
     "output_type": "display_data"
    }
   ],
   "source": [
    "from matplotlib import pyplot as plt\n",
    "loss=history.history['loss']\n",
    "val_loss=history.history['val_loss']\n",
    "\n",
    "epochs = range(1,len(loss)+1)\n",
    "plt.plot(epochs,loss,'bo',label='TRA loss')\n",
    "plt.plot(epochs,val_loss,'b',label='va loss')\n",
    "plt.title('Train and validation loss')\n",
    "plt.legend()\n",
    "\n",
    "plt.savefig('jena_conv1_dropout_v3_loss.png')\n",
    "plt.show()"
   ]
  }
 ],
 "metadata": {
  "interpreter": {
   "hash": "1da7e72ad87f70fcd0b6030ed64dbaf661c0a0480be1284c3d24ab4850818859"
  },
  "kernelspec": {
   "display_name": "Python 3.9.7 64-bit ('tensorflow': conda)",
   "language": "python",
   "name": "python3"
  },
  "language_info": {
   "codemirror_mode": {
    "name": "ipython",
    "version": 3
   },
   "file_extension": ".py",
   "mimetype": "text/x-python",
   "name": "python",
   "nbconvert_exporter": "python",
   "pygments_lexer": "ipython3",
   "version": "3.9.7"
  },
  "orig_nbformat": 4
 },
 "nbformat": 4,
 "nbformat_minor": 2
}
