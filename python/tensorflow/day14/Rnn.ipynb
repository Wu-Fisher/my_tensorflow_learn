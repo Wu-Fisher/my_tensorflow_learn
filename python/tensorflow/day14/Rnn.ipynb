{
 "cells": [
  {
   "cell_type": "markdown",
   "metadata": {},
   "source": [
    "# 循环神经网络\n",
    "输出会被循环连接到RNN层中作为输入\n",
    "rnn的输入为一个张量序列（timesteps,input_features）\n",
    "每一个timesteps考虑当前状态的输入还有当前的状态（也就是上一个状态的输入）"
   ]
  },
  {
   "cell_type": "markdown",
   "metadata": {},
   "source": [
    "使用keras层实现\n"
   ]
  },
  {
   "cell_type": "code",
   "execution_count": 1,
   "metadata": {},
   "outputs": [],
   "source": [
    "from keras.layers import SimpleRNN\n"
   ]
  },
  {
   "cell_type": "markdown",
   "metadata": {},
   "source": [
    "两种不同的模式：\n",
    "一种返回时间步连续输出的完整序列，即形状为（batch_size,timesteps,output_features）\n",
    "另一种是只返回每个输入序列的最终输出（batch_size，output_features）"
   ]
  },
  {
   "cell_type": "code",
   "execution_count": 3,
   "metadata": {},
   "outputs": [
    {
     "name": "stdout",
     "output_type": "stream",
     "text": [
      "Model: \"sequential_1\"\n",
      "_________________________________________________________________\n",
      " Layer (type)                Output Shape              Param #   \n",
      "=================================================================\n",
      " embedding_1 (Embedding)     (None, None, 32)          32000     \n",
      "                                                                 \n",
      " simple_rnn_1 (SimpleRNN)    (None, 32)                2080      \n",
      "                                                                 \n",
      "=================================================================\n",
      "Total params: 34,080\n",
      "Trainable params: 34,080\n",
      "Non-trainable params: 0\n",
      "_________________________________________________________________\n"
     ]
    }
   ],
   "source": [
    "from keras.models import Sequential\n",
    "from keras.layers import Embedding ,SimpleRNN\n",
    "model= Sequential()\n",
    "model.add(Embedding(1000,32))\n",
    "model.add(SimpleRNN(32))\n",
    "model.summary()\n",
    "#返回最终序列"
   ]
  },
  {
   "cell_type": "code",
   "execution_count": 4,
   "metadata": {},
   "outputs": [
    {
     "name": "stdout",
     "output_type": "stream",
     "text": [
      "Model: \"sequential_2\"\n",
      "_________________________________________________________________\n",
      " Layer (type)                Output Shape              Param #   \n",
      "=================================================================\n",
      " embedding_2 (Embedding)     (None, None, 32)          320000    \n",
      "                                                                 \n",
      " simple_rnn_2 (SimpleRNN)    (None, None, 32)          2080      \n",
      "                                                                 \n",
      "=================================================================\n",
      "Total params: 322,080\n",
      "Trainable params: 322,080\n",
      "Non-trainable params: 0\n",
      "_________________________________________________________________\n"
     ]
    }
   ],
   "source": [
    "# 多个循环层堆叠，返回完整的输出序列\n",
    "model=Sequential()\n",
    "model.add(Embedding(10000,32))\n",
    "model.add(SimpleRNN(32,return_sequences=True))\n",
    "model.summary()\n"
   ]
  },
  {
   "cell_type": "code",
   "execution_count": 1,
   "metadata": {},
   "outputs": [
    {
     "name": "stdout",
     "output_type": "stream",
     "text": [
      "loading data...\n",
      "25000 train sequences\n",
      "25000 test sequences\n",
      "Pad sequences (samples x time)\n"
     ]
    }
   ],
   "source": [
    "from keras.datasets import imdb\n",
    "from keras.preprocessing import sequence\n",
    "\n",
    "max_features = 10000\n",
    "maxlen = 500\n",
    "batch_size = 32\n",
    "\n",
    "print(\"loading data...\")\n",
    "(input_train,y_train),(input_test,y_test)=imdb.load_data(num_words=max_features)\n",
    "\n",
    "print(len(input_train),\"train sequences\")\n",
    "print(len(input_test),\"test sequences\")\n",
    "\n",
    "print('Pad sequences (samples x time)')\n",
    "input_train  = sequence.pad_sequences(input_train,maxlen=maxlen)\n",
    "input_test  = sequence.pad_sequences(input_test,maxlen=maxlen)\n"
   ]
  },
  {
   "cell_type": "code",
   "execution_count": 6,
   "metadata": {},
   "outputs": [
    {
     "name": "stdout",
     "output_type": "stream",
     "text": [
      "Epoch 1/10\n",
      "157/157 [==============================] - 49s 297ms/step - loss: 0.6300 - acc: 0.6338 - val_loss: 0.4997 - val_acc: 0.7782\n",
      "Epoch 2/10\n",
      "157/157 [==============================] - 48s 304ms/step - loss: 0.3992 - acc: 0.8335 - val_loss: 0.3934 - val_acc: 0.8282\n",
      "Epoch 3/10\n",
      "157/157 [==============================] - 48s 308ms/step - loss: 0.2905 - acc: 0.8845 - val_loss: 0.3749 - val_acc: 0.8522\n",
      "Epoch 4/10\n",
      "157/157 [==============================] - 47s 302ms/step - loss: 0.2134 - acc: 0.9186 - val_loss: 0.3774 - val_acc: 0.8496\n",
      "Epoch 5/10\n",
      "157/157 [==============================] - 45s 290ms/step - loss: 0.1502 - acc: 0.9471 - val_loss: 0.4532 - val_acc: 0.8036\n",
      "Epoch 6/10\n",
      "157/157 [==============================] - 46s 291ms/step - loss: 0.1009 - acc: 0.9653 - val_loss: 0.4318 - val_acc: 0.8398\n",
      "Epoch 7/10\n",
      "157/157 [==============================] - 46s 290ms/step - loss: 0.0668 - acc: 0.9793 - val_loss: 0.5033 - val_acc: 0.8238\n",
      "Epoch 8/10\n",
      "157/157 [==============================] - 46s 293ms/step - loss: 0.0401 - acc: 0.9881 - val_loss: 0.5694 - val_acc: 0.8100\n",
      "Epoch 9/10\n",
      "157/157 [==============================] - 45s 286ms/step - loss: 0.0316 - acc: 0.9910 - val_loss: 0.5844 - val_acc: 0.8200\n",
      "Epoch 10/10\n",
      "157/157 [==============================] - 46s 291ms/step - loss: 0.0164 - acc: 0.9961 - val_loss: 0.7623 - val_acc: 0.7662\n"
     ]
    }
   ],
   "source": [
    "from keras.layers import Dense\n",
    "\n",
    "\n",
    "model = Sequential()\n",
    "model.add(Embedding(max_features,32))\n",
    "model.add(SimpleRNN(32))\n",
    "model.add(Dense(1,activation='sigmoid'))\n",
    "\n",
    "model.compile(optimizer='rmsprop',loss='binary_crossentropy',metrics=['acc'])\n",
    "history=model.fit(input_train,y_train,\n",
    "epochs=10,batch_size=128,validation_split=0.2)\n"
   ]
  },
  {
   "cell_type": "code",
   "execution_count": 7,
   "metadata": {},
   "outputs": [
    {
     "data": {
      "image/png": "[encoded data removed]",
      "text/plain": [
       "<Figure size 432x288 with 1 Axes>"
      ]
     },
     "metadata": {
      "needs_background": "light"
     },
     "output_type": "display_data"
    },
    {
     "data": {
      "image/png": "[encoded data removed]",
      "text/plain": [
       "<Figure size 432x288 with 1 Axes>"
      ]
     },
     "metadata": {
      "needs_background": "light"
     },
     "output_type": "display_data"
    }
   ],
   "source": [
    "import matplotlib.pyplot as plt\n",
    "\n",
    "acc= history.history['acc']\n",
    "val_acc = history.history['val_acc']\n",
    "loss=history.history['loss']\n",
    "val_loss=history.history['val_loss']\n",
    "\n",
    "epochs = range(1,len(acc)+1)\n",
    "\n",
    "plt.plot(epochs,acc,'bo',label='TRA ACC')\n",
    "plt.plot(epochs,val_acc,'b',label='va acc')\n",
    "plt.title('Train and validation accuracy')\n",
    "plt.legend()\n",
    "plt.savefig('Rnn_v1_acc.png')\n",
    "plt.figure()\n",
    "\n",
    "plt.plot(epochs,loss,'bo',label='TRA acc')\n",
    "plt.plot(epochs,val_loss,'b',label='va loss')\n",
    "plt.title('Train and validation loss')\n",
    "plt.legend()\n",
    "\n",
    "plt.savefig('Rnn_v1_loss.png')\n",
    "plt.show()"
   ]
  },
  {
   "cell_type": "markdown",
   "metadata": {},
   "source": [
    "理解LSTM层和GRU层"
   ]
  },
  {
   "cell_type": "markdown",
   "metadata": {},
   "source": [
    "simpleRNN存在一个梯度消失问题，层数较多的非循环（前馈）网络，随着层数的增加，网格最终无法训练\n",
    "\n",
    "LSTM层作用：允许过去的信息稍后重新进入，解决问题\n",
    "\n",
    "例子："
   ]
  },
  {
   "cell_type": "code",
   "execution_count": 3,
   "metadata": {},
   "outputs": [
    {
     "name": "stdout",
     "output_type": "stream",
     "text": [
      "Epoch 1/10\n"
     ]
    },
    {
     "name": "stderr",
     "output_type": "stream",
     "text": [
      "2021-12-19 17:18:21.761372: I tensorflow/stream_executor/cuda/cuda_dnn.cc:366] Loaded cuDNN version 8201\n"
     ]
    },
    {
     "name": "stdout",
     "output_type": "stream",
     "text": [
      "157/157 [==============================] - 8s 29ms/step - loss: 0.5224 - acc: 0.7498 - val_loss: 0.3816 - val_acc: 0.8406\n",
      "Epoch 2/10\n",
      "157/157 [==============================] - 4s 27ms/step - loss: 0.2960 - acc: 0.8816 - val_loss: 0.2910 - val_acc: 0.8792\n",
      "Epoch 3/10\n",
      "157/157 [==============================] - 4s 27ms/step - loss: 0.2371 - acc: 0.9093 - val_loss: 0.2816 - val_acc: 0.8888\n",
      "Epoch 4/10\n",
      "157/157 [==============================] - 4s 27ms/step - loss: 0.1998 - acc: 0.9254 - val_loss: 0.3036 - val_acc: 0.8722\n",
      "Epoch 5/10\n",
      "157/157 [==============================] - 4s 26ms/step - loss: 0.1751 - acc: 0.9363 - val_loss: 0.3386 - val_acc: 0.8512\n",
      "Epoch 6/10\n",
      "157/157 [==============================] - 4s 26ms/step - loss: 0.1607 - acc: 0.9414 - val_loss: 0.3822 - val_acc: 0.8474\n",
      "Epoch 7/10\n",
      "157/157 [==============================] - 4s 27ms/step - loss: 0.1473 - acc: 0.9479 - val_loss: 0.3034 - val_acc: 0.8792\n",
      "Epoch 8/10\n",
      "157/157 [==============================] - 4s 27ms/step - loss: 0.1347 - acc: 0.9523 - val_loss: 0.3338 - val_acc: 0.8830\n",
      "Epoch 9/10\n",
      "157/157 [==============================] - 4s 25ms/step - loss: 0.1209 - acc: 0.9574 - val_loss: 0.4266 - val_acc: 0.8706\n",
      "Epoch 10/10\n",
      "157/157 [==============================] - 4s 25ms/step - loss: 0.1195 - acc: 0.9596 - val_loss: 0.3605 - val_acc: 0.8814\n"
     ]
    }
   ],
   "source": [
    "# from keras import layers\n",
    "from keras.layers import Dense\n",
    "from keras.models import Sequential\n",
    "from keras.layers import LSTM\n",
    "from keras.layers.embeddings import Embedding\n",
    "\n",
    "model=Sequential()\n",
    "model.add(Embedding(max_features,32))\n",
    "model.add(LSTM(32))\n",
    "model.add(Dense(1,activation='sigmoid'))\n",
    "model.compile(optimizer='rmsprop',loss='binary_crossentropy',metrics=['acc'])\n",
    "history=model.fit(input_train,y_train,\n",
    "epochs=10,batch_size=128,validation_split=0.2)\n"
   ]
  },
  {
   "cell_type": "code",
   "execution_count": 4,
   "metadata": {},
   "outputs": [
    {
     "data": {
      "image/png": "[encoded data removed]",
      "text/plain": [
       "<Figure size 432x288 with 1 Axes>"
      ]
     },
     "metadata": {
      "needs_background": "light"
     },
     "output_type": "display_data"
    },
    {
     "data": {
      "image/png": "[encoded data removed]",
      "text/plain": [
       "<Figure size 432x288 with 1 Axes>"
      ]
     },
     "metadata": {
      "needs_background": "light"
     },
     "output_type": "display_data"
    }
   ],
   "source": [
    "import matplotlib.pyplot as plt\n",
    "\n",
    "acc= history.history['acc']\n",
    "val_acc = history.history['val_acc']\n",
    "loss=history.history['loss']\n",
    "val_loss=history.history['val_loss']\n",
    "\n",
    "epochs = range(1,len(acc)+1)\n",
    "\n",
    "plt.plot(epochs,acc,'bo',label='TRA ACC')\n",
    "plt.plot(epochs,val_acc,'b',label='va acc')\n",
    "plt.title('Train and validation accuracy')\n",
    "plt.legend()\n",
    "plt.savefig('Rnn_LSTM_v2_acc.png')\n",
    "plt.figure()\n",
    "\n",
    "plt.plot(epochs,loss,'bo',label='TRA acc')\n",
    "plt.plot(epochs,val_loss,'b',label='va loss')\n",
    "plt.title('Train and validation loss')\n",
    "plt.legend()\n",
    "\n",
    "plt.savefig('Rnn_LSTM_v2_loss.png')\n",
    "plt.show()"
   ]
  },
  {
   "cell_type": "markdown",
   "metadata": {},
   "source": [
    "验证精度高达88%还是优化不少"
   ]
  }
 ],
 "metadata": {
  "interpreter": {
   "hash": "1da7e72ad87f70fcd0b6030ed64dbaf661c0a0480be1284c3d24ab4850818859"
  },
  "kernelspec": {
   "display_name": "Python 3.9.7 64-bit ('tensorflow': conda)",
   "language": "python",
   "name": "python3"
  },
  "language_info": {
   "codemirror_mode": {
    "name": "ipython",
    "version": 3
   },
   "file_extension": ".py",
   "mimetype": "text/x-python",
   "name": "python",
   "nbconvert_exporter": "python",
   "pygments_lexer": "ipython3",
   "version": "3.9.7"
  },
  "orig_nbformat": 4
 },
 "nbformat": 4,
 "nbformat_minor": 2
}
